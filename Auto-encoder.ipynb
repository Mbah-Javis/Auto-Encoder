{
 "cells": [
  {
   "cell_type": "code",
   "execution_count": 6,
   "metadata": {},
   "outputs": [
    {
     "name": "stdout",
     "output_type": "stream",
     "text": [
      "x_train shape = (60000, 784)\n",
      "x_test shape = (10000, 784)\n"
     ]
    }
   ],
   "source": [
    "from tensorflow.keras.layers import Input, Dense\n",
    "from tensorflow.keras.models import Model\n",
    "from tensorflow.keras.datasets import mnist\n",
    "import numpy as np\n",
    "import matplotlib.pyplot as plt\n",
    "\n",
    "encoding_dim = 128\n",
    "\n",
    "input_img = Input(shape=(784,))\n",
    "encoded = Dense(encoding_dim, activation='sigmoid')(input_img)\n",
    "decoded = Dense(784, activation = 'sigmoid')(encoded)\n",
    "\n",
    "autoencoder = Model(input_img, decoded)\n",
    "\n",
    "encoder = Model(input_img, encoded)\n",
    "\n",
    "encoded_input = Input(shape = (encoding_dim, ))\n",
    "\n",
    "decoded_layer = autoencoder.layers[-1]\n",
    "\n",
    "decoder = Model(encoded_input, decoded_layer(encoded_input))\n",
    "\n",
    "#compiling the autoencoder\n",
    "autoencoder.compile(optimizer = 'adam', loss = 'mse')\n",
    "\n",
    "(x_train, _),(x_test, _) = mnist.load_data()\n",
    "\n",
    "#reshaping the input\n",
    "x_train = x_train.reshape(x_train.shape[0], 784 )\n",
    "x_test = x_test.reshape(x_test.shape[0], 784 )\n",
    "\n",
    "x_train = x_train/255 \n",
    "x_test = x_test/255 \n",
    "\n",
    "print(f'x_train shape = {x_train.shape}')\n",
    "print(f'x_test shape = {x_test.shape}')"
   ]
  },
  {
   "cell_type": "code",
   "execution_count": 7,
   "metadata": {},
   "outputs": [
    {
     "name": "stdout",
     "output_type": "stream",
     "text": [
      "Epoch 1/10\n",
      "60000/60000 [==============================] - 33s 543us/sample - loss: 0.0363\n",
      "Epoch 2/10\n",
      "60000/60000 [==============================] - 34s 568us/sample - loss: 0.0137\n",
      "Epoch 3/10\n",
      "60000/60000 [==============================] - 20s 331us/sample - loss: 0.0085\n",
      "Epoch 4/10\n",
      "60000/60000 [==============================] - 24s 398us/sample - loss: 0.0063\n",
      "Epoch 5/10\n",
      "60000/60000 [==============================] - 23s 379us/sample - loss: 0.0050\n",
      "Epoch 6/10\n",
      "60000/60000 [==============================] - 46s 773us/sample - loss: 0.0042\n",
      "Epoch 7/10\n",
      "60000/60000 [==============================] - 20s 331us/sample - loss: 0.0036\n",
      "Epoch 8/10\n",
      "60000/60000 [==============================] - 20s 334us/sample - loss: 0.0031\n",
      "Epoch 9/10\n",
      "60000/60000 [==============================] - 21s 352us/sample - loss: 0.0028\n",
      "Epoch 10/10\n",
      "60000/60000 [==============================] - 20s 330us/sample - loss: 0.0026\n"
     ]
    }
   ],
   "source": [
    "#fitting the data into the autoencoder\n",
    "autoencoder.fit(x_train, x_train, epochs=10)\n",
    "\n",
    "x_test = x_test[:5]"
   ]
  },
  {
   "cell_type": "code",
   "execution_count": 8,
   "metadata": {},
   "outputs": [],
   "source": [
    "encoded_imgs = encoder.predict(x_test)\n",
    "decoded_imgs = decoder.predict(encoded_imgs)"
   ]
  },
  {
   "cell_type": "code",
   "execution_count": 9,
   "metadata": {},
   "outputs": [
    {
     "data": {
      "image/png": "[encoded data removed]",
      "text/plain": [
       "<Figure size 1440x288 with 10 Axes>"
      ]
     },
     "metadata": {
      "needs_background": "light"
     },
     "output_type": "display_data"
    }
   ],
   "source": [
    "n = 5\n",
    "plt.figure(figsize= (20, 4))\n",
    "\n",
    "for i in range(n):\n",
    "    ax = plt.subplot(2, n, i+1)\n",
    "    plt.imshow(x_test[i].reshape(28, 28))\n",
    "    plt.gray()\n",
    "    ax.get_xaxis().set_visible(False)\n",
    "    ax.get_yaxis().set_visible(False)\n",
    "    \n",
    "    ax = plt.subplot(2, n, i+1+n)\n",
    "    plt.imshow(decoded_imgs[i].reshape(28, 28))\n",
    "    plt.gray()\n",
    "    ax.get_xaxis().set_visible(False)\n",
    "    ax.get_yaxis().set_visible(False)\n",
    "    \n",
    "plt.show()"
   ]
  },
  {
   "cell_type": "code",
   "execution_count": null,
   "metadata": {},
   "outputs": [],
   "source": []
  }
 ],
 "metadata": {
  "kernelspec": {
   "display_name": "Python 3",
   "language": "python",
   "name": "python3"
  },
  "language_info": {
   "codemirror_mode": {
    "name": "ipython",
    "version": 3
   },
   "file_extension": ".py",
   "mimetype": "text/x-python",
   "name": "python",
   "nbconvert_exporter": "python",
   "pygments_lexer": "ipython3",
   "version": "3.7.4"
  }
 },
 "nbformat": 4,
 "nbformat_minor": 2
}
